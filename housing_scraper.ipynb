{
 "cells": [
  {
   "cell_type": "code",
   "execution_count": 1,
   "id": "99223f1c-ce66-4bca-b5f0-f87cf81e06e3",
   "metadata": {},
   "outputs": [],
   "source": [
    "# !pip install webdriver-manager"
   ]
  },
  {
   "cell_type": "code",
   "execution_count": 2,
   "id": "a88df1bb-0760-4d29-8f88-17f86d4be6cc",
   "metadata": {},
   "outputs": [],
   "source": [
    "# !pip install selenium --upgrade"
   ]
  },
  {
   "cell_type": "code",
   "execution_count": 21,
   "id": "d7139ca1-59fe-4a5d-9117-94bbbf4a6e60",
   "metadata": {
    "tags": []
   },
   "outputs": [],
   "source": [
    "from selenium.webdriver.chrome.service import Service\n",
    "from webdriver_manager.chrome import ChromeDriverManager\n",
    "from selenium.webdriver.chrome.options import Options\n",
    "from selenium import webdriver\n",
    "from selenium.webdriver.common.by import By\n",
    "from selenium.webdriver.support.ui import WebDriverWait\n",
    "from selenium.webdriver.support import expected_conditions as EC\n",
    "from selenium import webdriver\n",
    "import os\n",
    "import re\n",
    "import time\n",
    "from pprint import pprint\n",
    "import pandas as pd\n",
    "from bs4 import BeautifulSoup\n",
    "\n",
    "# Set Chrome options for headless mode\n",
    "# chrome_options = Options()\n",
    "# chrome_options.add_argument('--headless=new')\n",
    "# chrome_options.add_argument('--headless')\n",
    "\n",
    "options = Options()\n",
    "options.add_argument(\"--headless=new\")\n",
    "options.add_argument(\"user-agent=Chrome/80.0.3987.132\")\n",
    "options.add_argument(\"--window-size=1920,1080\")\n",
    "# driver = webdriver.Chrome()\n",
    "# Specify the ChromeDriver version\n",
    "service = Service(ChromeDriverManager().install())\n",
    "# Initialize SafariDriver\n",
    "# driver = webdriver.Safari()\n",
    "\n",
    "driver = webdriver.Chrome(service=service, options=options)\n",
    "\n",
    "# Set the URL of the website\n",
    "url = 'https://www.homes.com/homes-for-sale/?sk=bKQGNiTZM-2TOnjzdIpHc9r8fvsOljeHkDTek1zs6TM&bb=-2vih3-xpOzh2n_tiO'\n",
    "\n",
    "def listResponse(url):\n",
    "    driver.get(url)\n",
    "    time.sleep(0.2)\n",
    "    soup = BeautifulSoup(driver.page_source,\"html.parser\")\n",
    "    return soup\n",
    "\n",
    "# Open the website\n",
    "# driver.get(url)\n",
    "# source = driver.page_source\n",
    "soup = listResponse(url)\n",
    "# soup = BeautifulSoup(source, \"html.parser\")"
   ]
  },
  {
   "cell_type": "code",
   "execution_count": 22,
   "id": "19b38997-352f-480b-b1c0-c371a8cdbd2e",
   "metadata": {
    "tags": []
   },
   "outputs": [],
   "source": [
    "# pprint(soup)"
   ]
  },
  {
   "cell_type": "code",
   "execution_count": 23,
   "id": "17072f84-e7a6-46e2-9eb8-afff08403fa2",
   "metadata": {},
   "outputs": [],
   "source": [
    "house_listings = list(soup.select('div.for-sale-content-container'))\n",
    "house_listings = [BeautifulSoup(str(tag), \"lxml\") for tag in house_listings]"
   ]
  },
  {
   "cell_type": "code",
   "execution_count": 24,
   "id": "41b78471-9ec4-4bda-b4b6-a88440738002",
   "metadata": {},
   "outputs": [],
   "source": [
    "num_pages = int(soup.select_one('span.pageRange').text.split('of')[1].strip())\n",
    "base_url = \"https://www.homes.com/homes-for-sale/p\"\n",
    "page_links = [f\"{base_url}{page_number}/?sk=bKQGNiTZM-2TOnjzdIpHc9r8fvsOljeHkDTek1zs6TM&bb=-2vih3-xpOzh2n_tiO\" for page_number in range(1, num_pages + 1)]\n",
    "cauldron = [listResponse(link) for link in page_links]"
   ]
  },
  {
   "cell_type": "code",
   "execution_count": 50,
   "id": "81344bf9-015e-4bc0-b13b-2b8b41e90a8b",
   "metadata": {},
   "outputs": [],
   "source": [
    "house_listings = [list(soup.find_all('div', class_='for-sale-content-container')) for soup in cauldron]"
   ]
  },
  {
   "cell_type": "code",
   "execution_count": 56,
   "id": "3d984c7e-4129-42a1-8833-14cae714751e",
   "metadata": {},
   "outputs": [],
   "source": [
    "full_listings = [html for soup in house_listings for html in soup]"
   ]
  },
  {
   "cell_type": "code",
   "execution_count": 57,
   "id": "dbd2921d-0517-4d18-b86e-48da04536ae6",
   "metadata": {},
   "outputs": [
    {
     "data": {
      "text/plain": [
       "691"
      ]
     },
     "execution_count": 57,
     "metadata": {},
     "output_type": "execute_result"
    }
   ],
   "source": [
    "len(full_listings)"
   ]
  },
  {
   "cell_type": "code",
   "execution_count": 58,
   "id": "645124fc-a111-4d61-9696-c2495a2dd078",
   "metadata": {},
   "outputs": [],
   "source": [
    "# soup.select('div.for-sale-content-container')"
   ]
  },
  {
   "cell_type": "code",
   "execution_count": 59,
   "id": "118afc31-e44b-41ab-8891-ff12b3c4c795",
   "metadata": {},
   "outputs": [],
   "source": [
    "df_list = [\n",
    "    {\n",
    "        \"Agent Full Name\": listing.find('span', class_=\"agent-name\").text if listing.find('span', class_=\"agent-name\") else \"Data Not Found\",\n",
    "        \"Agent First Name\": listing.find('span', class_=\"agent-name\").text.split(' ')[0] if listing.find('span', class_=\"agent-name\") else \"Data Not Found\",\n",
    "        \"Agent Last Name\": listing.find('span', class_=\"agent-name\").text.split(' ')[1] if listing.find('span', class_=\"agent-name\") else \"Data Not Found\",\n",
    "        \"Agency\": listing.find('span', class_=\"agency-name\").text if listing.find('span', class_=\"agency-name\") else \"Data Not Found\",\n",
    "        \"Listing Address\": listing.find('p', class_='property-name').text if listing.find('p', class_='property-name') else \"Data Not Found\",\n",
    "        \"City\": listing.find('p', class_='property-name').text.split(', ')[1] if len(listing.find('p', class_='property-name').text.split(', '))>1 else \"Data Not Found\",\n",
    "        \"Listing Price\": listing.find('p', class_='price-container').contents[0].strip() if listing.find('p', class_='price-container') else \"Data Not Found\",\n",
    "        \"Link\": \"https://www.homes.com\" + listing.find('a').get('href') if listing.find('a').get('href') else \"Data Not Found\"\n",
    "    }\n",
    "    for listing in full_listings\n",
    "]"
   ]
  },
  {
   "cell_type": "code",
   "execution_count": 60,
   "id": "b0966878-3951-4e69-a12c-f28995459d4f",
   "metadata": {},
   "outputs": [
    {
     "data": {
      "text/html": [
       "<div>\n",
       "<style scoped>\n",
       "    .dataframe tbody tr th:only-of-type {\n",
       "        vertical-align: middle;\n",
       "    }\n",
       "\n",
       "    .dataframe tbody tr th {\n",
       "        vertical-align: top;\n",
       "    }\n",
       "\n",
       "    .dataframe thead th {\n",
       "        text-align: right;\n",
       "    }\n",
       "</style>\n",
       "<table border=\"1\" class=\"dataframe\">\n",
       "  <thead>\n",
       "    <tr style=\"text-align: right;\">\n",
       "      <th></th>\n",
       "      <th>Agent Full Name</th>\n",
       "      <th>Agent First Name</th>\n",
       "      <th>Agent Last Name</th>\n",
       "      <th>Agency</th>\n",
       "      <th>Listing Address</th>\n",
       "      <th>City</th>\n",
       "      <th>Listing Price</th>\n",
       "      <th>Link</th>\n",
       "    </tr>\n",
       "  </thead>\n",
       "  <tbody>\n",
       "    <tr>\n",
       "      <th>0</th>\n",
       "      <td>Lisa Drake</td>\n",
       "      <td>Lisa</td>\n",
       "      <td>Drake</td>\n",
       "      <td>Lisa Drake Properties</td>\n",
       "      <td>5847 E El Monte Way, Fresno, CA 93727</td>\n",
       "      <td>Fresno</td>\n",
       "      <td>$289,999</td>\n",
       "      <td>https://www.homes.com/property/5847-e-el-monte...</td>\n",
       "    </tr>\n",
       "    <tr>\n",
       "      <th>1</th>\n",
       "      <td>Brooke Clevenger</td>\n",
       "      <td>Brooke</td>\n",
       "      <td>Clevenger</td>\n",
       "      <td>RE/MAX Success</td>\n",
       "      <td>1774 Firestone Dr, Tulare, CA 93274</td>\n",
       "      <td>Tulare</td>\n",
       "      <td>$615,000</td>\n",
       "      <td>https://www.homes.com/property/1774-firestone-...</td>\n",
       "    </tr>\n",
       "    <tr>\n",
       "      <th>2</th>\n",
       "      <td>Rita Amaro</td>\n",
       "      <td>Rita</td>\n",
       "      <td>Amaro</td>\n",
       "      <td>Rise Real Estate</td>\n",
       "      <td>5133 W Lamona Ave, Fresno, CA 93722</td>\n",
       "      <td>Fresno</td>\n",
       "      <td>$625,000</td>\n",
       "      <td>https://www.homes.com/property/5133-w-lamona-a...</td>\n",
       "    </tr>\n",
       "    <tr>\n",
       "      <th>3</th>\n",
       "      <td>Paul Gestic</td>\n",
       "      <td>Paul</td>\n",
       "      <td>Gestic</td>\n",
       "      <td>Fresno Income Properties</td>\n",
       "      <td>21723 Westmere Ln, Friant, CA 93626</td>\n",
       "      <td>Friant</td>\n",
       "      <td>$1,200,000</td>\n",
       "      <td>https://www.homes.com/property/21723-westmere-...</td>\n",
       "    </tr>\n",
       "    <tr>\n",
       "      <th>4</th>\n",
       "      <td>Brandon Gonzales</td>\n",
       "      <td>Brandon</td>\n",
       "      <td>Gonzales</td>\n",
       "      <td>Iron Key Real Estate</td>\n",
       "      <td>1979 N Elm Ave, Clovis, CA 93619</td>\n",
       "      <td>Clovis</td>\n",
       "      <td>$950,000</td>\n",
       "      <td>https://www.homes.com/property/1979-n-elm-ave-...</td>\n",
       "    </tr>\n",
       "    <tr>\n",
       "      <th>...</th>\n",
       "      <td>...</td>\n",
       "      <td>...</td>\n",
       "      <td>...</td>\n",
       "      <td>...</td>\n",
       "      <td>...</td>\n",
       "      <td>...</td>\n",
       "      <td>...</td>\n",
       "      <td>...</td>\n",
       "    </tr>\n",
       "    <tr>\n",
       "      <th>686</th>\n",
       "      <td>Francine Hipskind</td>\n",
       "      <td>Francine</td>\n",
       "      <td>Hipskind</td>\n",
       "      <td>Wendy Little Properties, Inc.</td>\n",
       "      <td>2039 W Sunnyview Ave, Visalia, CA 93291</td>\n",
       "      <td>Visalia</td>\n",
       "      <td>$539,000</td>\n",
       "      <td>https://www.homes.com/property/2039-w-sunnyvie...</td>\n",
       "    </tr>\n",
       "    <tr>\n",
       "      <th>687</th>\n",
       "      <td>Loraine Greene</td>\n",
       "      <td>Loraine</td>\n",
       "      <td>Greene</td>\n",
       "      <td>Miramar International-Riverwal</td>\n",
       "      <td>1704 Santa Cruz Dr W, Tulare, CA 93274</td>\n",
       "      <td>Tulare</td>\n",
       "      <td>$395,000</td>\n",
       "      <td>https://www.homes.com/property/1704-santa-cruz...</td>\n",
       "    </tr>\n",
       "    <tr>\n",
       "      <th>688</th>\n",
       "      <td>Shawn Cardoza</td>\n",
       "      <td>Shawn</td>\n",
       "      <td>Cardoza</td>\n",
       "      <td>Legacy Real Estate Inc</td>\n",
       "      <td>1502 W Sierra Dr, Visalia, CA 93291</td>\n",
       "      <td>Visalia</td>\n",
       "      <td>$779,900</td>\n",
       "      <td>https://www.homes.com/property/1502-w-sierra-d...</td>\n",
       "    </tr>\n",
       "    <tr>\n",
       "      <th>689</th>\n",
       "      <td>Satinder Malhi</td>\n",
       "      <td>Satinder</td>\n",
       "      <td>Malhi</td>\n",
       "      <td>Realty One Group Action</td>\n",
       "      <td>3065 N Marty Ave Unit 118, Fresno, CA 93722</td>\n",
       "      <td>Fresno</td>\n",
       "      <td>$313,999</td>\n",
       "      <td>https://www.homes.com/property/3065-n-marty-av...</td>\n",
       "    </tr>\n",
       "    <tr>\n",
       "      <th>690</th>\n",
       "      <td>Leticia Jacobo</td>\n",
       "      <td>Leticia</td>\n",
       "      <td>Jacobo</td>\n",
       "      <td>Guarantee Real Estate</td>\n",
       "      <td>3918 E Converse Ave, Friant, CA 93626</td>\n",
       "      <td>Friant</td>\n",
       "      <td>$459,900</td>\n",
       "      <td>https://www.homes.com/property/3918-e-converse...</td>\n",
       "    </tr>\n",
       "  </tbody>\n",
       "</table>\n",
       "<p>691 rows × 8 columns</p>\n",
       "</div>"
      ],
      "text/plain": [
       "       Agent Full Name Agent First Name Agent Last Name  \\\n",
       "0           Lisa Drake             Lisa           Drake   \n",
       "1     Brooke Clevenger           Brooke       Clevenger   \n",
       "2           Rita Amaro             Rita           Amaro   \n",
       "3          Paul Gestic             Paul          Gestic   \n",
       "4     Brandon Gonzales          Brandon        Gonzales   \n",
       "..                 ...              ...             ...   \n",
       "686  Francine Hipskind         Francine        Hipskind   \n",
       "687     Loraine Greene          Loraine          Greene   \n",
       "688      Shawn Cardoza            Shawn         Cardoza   \n",
       "689     Satinder Malhi         Satinder           Malhi   \n",
       "690     Leticia Jacobo          Leticia          Jacobo   \n",
       "\n",
       "                             Agency  \\\n",
       "0             Lisa Drake Properties   \n",
       "1                    RE/MAX Success   \n",
       "2                  Rise Real Estate   \n",
       "3          Fresno Income Properties   \n",
       "4              Iron Key Real Estate   \n",
       "..                              ...   \n",
       "686   Wendy Little Properties, Inc.   \n",
       "687  Miramar International-Riverwal   \n",
       "688          Legacy Real Estate Inc   \n",
       "689         Realty One Group Action   \n",
       "690           Guarantee Real Estate   \n",
       "\n",
       "                                 Listing Address     City Listing Price  \\\n",
       "0          5847 E El Monte Way, Fresno, CA 93727   Fresno      $289,999   \n",
       "1            1774 Firestone Dr, Tulare, CA 93274   Tulare      $615,000   \n",
       "2            5133 W Lamona Ave, Fresno, CA 93722   Fresno      $625,000   \n",
       "3            21723 Westmere Ln, Friant, CA 93626   Friant    $1,200,000   \n",
       "4               1979 N Elm Ave, Clovis, CA 93619   Clovis      $950,000   \n",
       "..                                           ...      ...           ...   \n",
       "686      2039 W Sunnyview Ave, Visalia, CA 93291  Visalia      $539,000   \n",
       "687       1704 Santa Cruz Dr W, Tulare, CA 93274   Tulare      $395,000   \n",
       "688          1502 W Sierra Dr, Visalia, CA 93291  Visalia      $779,900   \n",
       "689  3065 N Marty Ave Unit 118, Fresno, CA 93722   Fresno      $313,999   \n",
       "690        3918 E Converse Ave, Friant, CA 93626   Friant      $459,900   \n",
       "\n",
       "                                                  Link  \n",
       "0    https://www.homes.com/property/5847-e-el-monte...  \n",
       "1    https://www.homes.com/property/1774-firestone-...  \n",
       "2    https://www.homes.com/property/5133-w-lamona-a...  \n",
       "3    https://www.homes.com/property/21723-westmere-...  \n",
       "4    https://www.homes.com/property/1979-n-elm-ave-...  \n",
       "..                                                 ...  \n",
       "686  https://www.homes.com/property/2039-w-sunnyvie...  \n",
       "687  https://www.homes.com/property/1704-santa-cruz...  \n",
       "688  https://www.homes.com/property/1502-w-sierra-d...  \n",
       "689  https://www.homes.com/property/3065-n-marty-av...  \n",
       "690  https://www.homes.com/property/3918-e-converse...  \n",
       "\n",
       "[691 rows x 8 columns]"
      ]
     },
     "execution_count": 60,
     "metadata": {},
     "output_type": "execute_result"
    }
   ],
   "source": [
    "df = pd.DataFrame(df_list)\n",
    "df"
   ]
  },
  {
   "cell_type": "code",
   "execution_count": 61,
   "id": "175eb2cb-81cf-41f4-bd94-886352fa31de",
   "metadata": {},
   "outputs": [
    {
     "name": "stdout",
     "output_type": "stream",
     "text": [
      "<class 'pandas.core.frame.DataFrame'>\n",
      "RangeIndex: 691 entries, 0 to 690\n",
      "Data columns (total 8 columns):\n",
      " #   Column            Non-Null Count  Dtype \n",
      "---  ------            --------------  ----- \n",
      " 0   Agent Full Name   691 non-null    object\n",
      " 1   Agent First Name  691 non-null    object\n",
      " 2   Agent Last Name   691 non-null    object\n",
      " 3   Agency            691 non-null    object\n",
      " 4   Listing Address   691 non-null    object\n",
      " 5   City              691 non-null    object\n",
      " 6   Listing Price     691 non-null    object\n",
      " 7   Link              691 non-null    object\n",
      "dtypes: object(8)\n",
      "memory usage: 43.3+ KB\n"
     ]
    }
   ],
   "source": [
    "df.info()"
   ]
  },
  {
   "cell_type": "code",
   "execution_count": null,
   "id": "56049cf2-5308-4ca6-b1f5-9ea9ea26c680",
   "metadata": {},
   "outputs": [],
   "source": []
  }
 ],
 "metadata": {
  "kernelspec": {
   "display_name": "Python 3 (ipykernel)",
   "language": "python",
   "name": "python3"
  },
  "language_info": {
   "codemirror_mode": {
    "name": "ipython",
    "version": 3
   },
   "file_extension": ".py",
   "mimetype": "text/x-python",
   "name": "python",
   "nbconvert_exporter": "python",
   "pygments_lexer": "ipython3",
   "version": "3.9.12"
  },
  "widgets": {
   "application/vnd.jupyter.widget-state+json": {
    "state": {},
    "version_major": 2,
    "version_minor": 0
   }
  }
 },
 "nbformat": 4,
 "nbformat_minor": 5
}
